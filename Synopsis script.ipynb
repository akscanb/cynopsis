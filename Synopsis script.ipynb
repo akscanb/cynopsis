{
 "cells": [
  {
   "cell_type": "code",
   "execution_count": 2,
   "metadata": {},
   "outputs": [],
   "source": [
    "import sys"
   ]
  },
  {
   "cell_type": "code",
   "execution_count": 176,
   "metadata": {},
   "outputs": [],
   "source": [
    "\n",
    "import csv\n",
    "import json\n",
    "import sys\n",
    "\n",
    "class Customer:\n",
    "    def __init__(self, last_name, first_name, title, country_of_residence, gender, date_of_birth, id_number, nationality):\n",
    "        self.last_name = last_name\n",
    "        self.first_name = first_name\n",
    "        self.title = title\n",
    "        self.country_of_residence = country_of_residence\n",
    "        self.gender = gender\n",
    "        self.date_of_birth = date_of_birth\n",
    "        self.identification_number = id_number\n",
    "        self.nationality = nationality\n",
    "\n",
    "        # Hard-coded fields\n",
    "        self.ssic_code = \"UNKNOWN\"\n",
    "        self.ssoc_code = \"UNKNOWN\"\n",
    "        self.onboarding_mode = \"NON FACE-TO-FACE\"\n",
    "        self.product_service_complexity = \"COMPLEX\"\n",
    "        self.payment_mode = \"VIRTUAL CURRENCY\"\n",
    "\n",
    "        # Omitted fields\n",
    "#        self.domain_name = None\n",
    "#        self.rfrID = None\n",
    "#        self.middle_name = None\n",
    "#        self.alias_name = None\n",
    "#        self.country_of_birth = None\n",
    "#        self.identification_type = None\n",
    "#        self.issue_date = None\n",
    "#        self.expiry_date = None\n",
    "#        self.source_of_funds = None\n",
    "#        self.bank_name = None\n",
    "#        self.acc_number = None\n",
    "#        self.emails = []\n",
    "#        self.telephone_numbers = []\n",
    "#        self.addresses = None\n",
    "\n",
    "    def to_json(self):\n",
    "        return json.dumps(self.__dict__)\n",
    "\n",
    "def customer_from_file(filename):\n",
    "    with open(filename, 'r') as f:\n",
    "        fields = [field.strip() for field in f.readlines()]\n",
    "\n",
    "    # Last field should be ignored\n",
    "    assert len(fields) == 9, \"Unexpected number of fields\"\n",
    "\n",
    "    last_name = fields[0]\n",
    "    first_name = fields[1]\n",
    "    title = fields[2]\n",
    "    country_of_residence = fields[3]\n",
    "    gender = fields[4]\n",
    "    date_of_birth = fields[5]\n",
    "    id_number = fields[6]\n",
    "    nationality = fields[7]\n",
    "\n",
    "    return Customer(last_name, first_name, title, country_of_residence, gender, date_of_birth, id_number, nationality)\n",
    "\n"
   ]
  },
  {
   "cell_type": "code",
   "execution_count": 182,
   "metadata": {},
   "outputs": [
    {
     "name": "stdout",
     "output_type": "stream",
     "text": [
      "{\"ssoc_code\": \"UNKNOWN\", \"payment_mode\": \"VIRTUAL CURRENCY\", \"first_name\": \"Antony\", \"date_of_birth\": \"06/14/1994\", \"country_of_residence\": \"Canada\", \"onboarding_mode\": \"NON FACE-TO-FACE\", \"title\": \"Mrr.\", \"product_service_complexity\": \"COMPLEX\", \"identification_number\": \"HB685222\", \"last_name\": \"Qian\", \"nationality\": \"itCizaenn?a da,Yes,No\", \"ssic_code\": \"UNKNOWN\", \"gender\": \"M  a  le\"}\n"
     ]
    }
   ],
   "source": [
    "customer = customer_from_file(\"tabula-exampleKYC.csv\")\n",
    "print (customer.to_json())"
   ]
  },
  {
   "cell_type": "code",
   "execution_count": 3,
   "metadata": {},
   "outputs": [
    {
     "data": {
      "text/plain": [
       "['',\n",
       " '/usr/lib/python35.zip',\n",
       " '/usr/lib/python3.5',\n",
       " '/usr/lib/python3.5/plat-x86_64-linux-gnu',\n",
       " '/usr/lib/python3.5/lib-dynload',\n",
       " '/home/z/.local/lib/python3.5/site-packages',\n",
       " '/usr/local/lib/python3.5/dist-packages',\n",
       " '/usr/lib/python3/dist-packages',\n",
       " '/home/z/.local/lib/python3.5/site-packages/IPython/extensions',\n",
       " '/home/z/.ipython']"
      ]
     },
     "execution_count": 3,
     "metadata": {},
     "output_type": "execute_result"
    }
   ],
   "source": [
    "sys.path"
   ]
  },
  {
   "cell_type": "code",
   "execution_count": null,
   "metadata": {},
   "outputs": [],
   "source": []
  },
  {
   "cell_type": "code",
   "execution_count": 97,
   "metadata": {},
   "outputs": [],
   "source": [
    "import urllib\n",
    "import requests"
   ]
  },
  {
   "cell_type": "code",
   "execution_count": 157,
   "metadata": {},
   "outputs": [],
   "source": [
    "\n",
    "defaulturl = \"https://p2.cynopsis-solutions.com/artemis_eximchain/\"\n",
    "\n",
    "assessIndivAPI = \"default/individual_risk\" #POST\n",
    "indivCustomerAPI = \"api/individual_customer\" #GET,PUT\n",
    "indivCustomerDocAPI = \"api/individual_customer_doc\" #POST\n",
    "indivCustomerRepAPI = \"api/individual_customer_report\" #POST\n",
    "customerRepAPI = \"api/customer_report\" #PUT\n",
    "checkCustomerAPI = \"default/check_status.json\" #GET\n",
    "\n",
    "\n",
    "# headers = {\"Content-Type\": \"application/json\",\n",
    "#            \"WEB2PY-USER-TOKEN\": \"97d6c5bd-7278-4621-b175-c247e8cbef08\"}\n",
    "headers = {\"Content-Type\": \"application/json\",\n",
    "           \"WEB2PY-USER-TOKEN\": \"75612638-5b25-4750-8e4f-d80374a4ed0d\"}\n",
    "body = {\"customer\":1}\n"
   ]
  },
  {
   "cell_type": "code",
   "execution_count": 132,
   "metadata": {},
   "outputs": [
    {
     "name": "stdout",
     "output_type": "stream",
     "text": [
      "{'cache-control': 'max-age=604800', 'status': '404', 'expires': 'Fri, 02 Mar 2018 06:40:47 GMT', 'content-length': '345', 'date': 'Fri, 23 Feb 2018 06:40:47 GMT', 'content-type': 'text/html', 'server': 'EOS (vny006/0454)'}\n"
     ]
    }
   ],
   "source": [
    "#url = 'http://www.example.com/login'   \n",
    "#body = {'USERNAME': 'foo', 'PASSWORD': 'bar'}\n",
    "#headers = {'Content-type': 'application/x-www-form-urlencoded'}\n",
    "#response, content = h.request(url, 'POST', headers=headers, body=urllib.parse.urlencode(body))\n",
    "print(response)"
   ]
  },
  {
   "cell_type": "code",
   "execution_count": 131,
   "metadata": {},
   "outputs": [
    {
     "name": "stdout",
     "output_type": "stream",
     "text": [
      "https://p2.cynopsis-solutions.com/artemis_eximchain_uat/default/check_status.json\n"
     ]
    }
   ],
   "source": [
    "url = defaulturl+checkCustomerAPI\n",
    "print(url)\n",
    "# url = defaulturl.replace(\"XXXXX\",indivUpdateAPI)\n",
    "# print(url)\n",
    "# url = defaulturl.replace(\"XXXXX\",indivUploadAPI)\n",
    "# print(url)\n",
    "# print(defaulturl)"
   ]
  },
  {
   "cell_type": "code",
   "execution_count": 134,
   "metadata": {},
   "outputs": [
    {
     "name": "stdout",
     "output_type": "stream",
     "text": [
      "https://p2.cynopsis-solutions.com/artemis_eximchain_uat/default/check_status.json {'Content-Type': 'application/json', 'WEB2PY-USER-TOKEN': '97d6c5bd-7278-4621-b175-c247e8cbef08'} {'customer': 1}\n",
      "{\"risk_rating\": \"LOW\", \"rfrID\": \"\", \"approval_status\": \"CLEARED\"} fuck\n"
     ]
    }
   ],
   "source": [
    "print(url, headers,method not allowed fuck\n",
    "In [72]:\n",
    " body)\n",
    "r = requests.get(url, headers=headers, params=urllib.parse.urlencode(body))\n",
    "print(r.text,\"fuck\")\n",
    "# resp, content = h.request(url, \"GET\", headers=headers)"
   ]
  },
  {
   "cell_type": "code",
   "execution_count": 72,
   "metadata": {},
   "outputs": [
    {
     "data": {
      "text/plain": [
       "'customer=1'"
      ]
     },
     "execution_count": 72,
     "metadata": {},
     "output_type": "execute_result"
    }
   ],
   "source": [
    "urllib.parse.urlencode(body)"
   ]
  },
  {
   "cell_type": "code",
   "execution_count": 171,
   "metadata": {},
   "outputs": [
    {
     "name": "stdout",
     "output_type": "stream",
     "text": [
      "{'ssoc_code': 'UNKNOWN', 'onboarding_mode': 'UNKNOWN', 'nationality': 'AMERICAN', 'payment_mode': 'UNKNOWN', 'first_name': 'Andrew', 'country_of_residence': 'UNITED STATES OF AMERICA', 'ssic_code': 'UNKNOWN', 'product_service_complexity': 'UNKNOWN', 'last_name': 'Koh'}\n",
      "{'ssoc_code': 'UNKNOWN', 'onboarding_mode': 'UNKNOWN', 'nationality': 'AMERICAN', 'payment_mode': 'UNKNOWN', 'first_name': 'Andrew', 'country_of_residence': 'UNITED STATES OF AMERICA', 'ssic_code': 'UNKNOWN', 'product_service_complexity': 'UNKNOWN', 'last_name': 'Koh'}\n"
     ]
    }
   ],
   "source": [
    "body = {\n",
    "\n",
    "\n",
    "\n",
    "    \"first_name\":\"Andrew\",\n",
    "\n",
    "        # \"description\": \"First Name\",\n",
    "        # \"required\": true,\n",
    "        # \"type\": \"string\"\n",
    "\n",
    "\n",
    "    \"last_name\":\"Koh\",\n",
    "\n",
    "        # \"description\": \"Last Name\",\n",
    "        # \"required\": true,\n",
    "        # \"type\": \"string\"\n",
    "\n",
    "\n",
    "    \"nationality\":\"AMERICAN\",\n",
    "\n",
    "        # \"description\": \"Nationality of the individual customer\",\n",
    "        # \"required\": true,\n",
    "        # \"type\": \"string\",\n",
    "        # \"enum\": please refer to _nationality list\n",
    "\n",
    "    \"country_of_residence\":\"UNITED STATES OF AMERICA\",\n",
    "\n",
    "        # \"description\": \"Country of Residence of the individual customer\",\n",
    "        # \"required\": true,\n",
    "        # \"type\": \"string\",\n",
    "        # \"enum\": please refer to _country list\n",
    "\n",
    "\n",
    "    \"ssic_code\":\"UNKNOWN\",\n",
    "\n",
    "        # \"description\": \"Industry Code\",\n",
    "        # \"required\": true,\n",
    "        # \"type\": \"string\",\n",
    "        # \"enum\": please refer to _ssic list\n",
    "\n",
    "    \"ssoc_code\":\"UNKNOWN\",\n",
    "\n",
    "        # \"description\": \"Occupation Code\",\n",
    "        # \"required\": true,\n",
    "        # \"type\": \"string\",\n",
    "        # \"enum\": please refer to _ssoc list\n",
    "\n",
    "    \"onboarding_mode\":\"UNKNOWN\",\n",
    "\n",
    "        # \"description\": \"Onboarding Mode\",\n",
    "        # \"required\": true,\n",
    "        # \"type\": \"string\",\n",
    "        # \"enum\": [\"UNKNOWN\", \"FACE-TO-FACE\", \"NON FACE-TO-FACE\"]\n",
    "\n",
    "    \"payment_mode\":\"UNKNOWN\",\n",
    "\n",
    "        # \"description\": \"Payment Mode\",\n",
    "        # \"required\": true,\n",
    "        # \"type\": \"string\",\n",
    "        \n",
    "\n",
    "    \"product_service_complexity\":\"UNKNOWN\"\n",
    "\n",
    "        # \"description\": \"Product Service Complexity\",\n",
    "        # \"required\": true,\n",
    "        # \"type\": \"string\",\n",
    "        # \"enum\": [\"UNKNOWN\", \"SIMPLE\", \"COMPLEX\", \"HIGH RISK\", \"UNUSUAL\"]\n",
    "}\n",
    "print(body)\n",
    "# body ={\n",
    "#             \"rfrID\":\"prod0001\",\n",
    "#             \"first_name\": \"YANGBO\",\n",
    "#             \"last_name\": \"XU\",\n",
    "#             \"nationality\": \"CHINESE\",\n",
    "#             \"country_of_residence\": \"SINGAPORE\",\n",
    "#             \"onboarding_mode\": \"NON FACE-TO-FACE\",\n",
    "#             \"product_service_complexity\": \"SIMPLE\",\n",
    "#             \"payment_mode\": \"CASH\",\n",
    "#             \"ssic_code\": \"46512 - WHOLESALE OF COMPUTER SOFTWARE (EXCEPT GAMES)\",\n",
    "#             \"ssoc_code\": \"13302 - SOFTWARE AND APPLICATIONS MANAGER\"\n",
    "# }\n",
    "# body ={\n",
    "#     \"rfrID\":\"prod0002\",\n",
    "#             \"first_name\": \"YANGBO\",\n",
    "#             \"last_name\": \"XU\",\n",
    "#             \"nationality\": \"CHINESE\",\n",
    "#             \"country_of_residence\": \"SINGAPORE\",\n",
    "#             \"onboarding_mode\": \"NON FACE-TO-FACE\",\n",
    "#             \"product_service_complexity\": \"SIMPLE\",\n",
    "#             \"payment_mode\": \"CASH\",\n",
    "#             \"ssic_code\": \"_A_A_A_A_\",\n",
    "#             \"ssoc_code\": \"_B_B_B_B_\"\n",
    "# }\n",
    "print(body)\n"
   ]
  },
  {
   "cell_type": "code",
   "execution_count": 172,
   "metadata": {},
   "outputs": [
    {
     "name": "stdout",
     "output_type": "stream",
     "text": [
      "https://p2.cynopsis-solutions.com/artemis_eximchain/default/individual_risk\n"
     ]
    }
   ],
   "source": [
    "url = defaulturl + assessIndivAPI\n",
    "print(url)\n"
   ]
  },
  {
   "cell_type": "code",
   "execution_count": 173,
   "metadata": {},
   "outputs": [
    {
     "name": "stdout",
     "output_type": "stream",
     "text": [
      "{\"status\": \"COMPLETED\", \"own_list_search\": [], \"approval_status\": \"CLEARED\", \"control_list_search\": {\"is_hit\": false, \"timeStamp\": \"2018-02-23 08:02:34.712606+00:00\", \"scanResult\": {\"HMT consolidated list of financial sanctions target in the UK (entity)\": [], \"HMT consolidated list of financial sanctions target in the UK (individual)\": [], \"UN consolidated sanction list (entity)\": [], \"OFAC SDN and consolidated sanction list\": [], \"Interpol wanted persons\": [], \"Switzerland SECO consolidated sanction list\": [], \"EU consolidated sanction list\": [], \"UN consolidated sanction list (individual)\": []}, \"indivscanID\": null, \"error\": null}, \"rfrID\": \"\", \"internet_search\": null, \"screening_database_search\": []}\n"
     ]
    }
   ],
   "source": [
    "r = requests.post(url, headers=headers, params=body)\n",
    "print(r.text)"
   ]
  },
  {
   "cell_type": "code",
   "execution_count": 160,
   "metadata": {},
   "outputs": [
    {
     "name": "stdout",
     "output_type": "stream",
     "text": [
      "{\"errors\": {\"nationality\": \"Value not allowed\", \"last_name\": \"Enter a value\", \"ssoc_code\": \"Value not allowed\", \"ssic_code\": \"Value not allowed\", \"country_of_residence\": \"Value not allowed\"}, \"rfrID\": \"\", \"id\": null}\n"
     ]
    }
   ],
   "source": [
    "print(r.text)"
   ]
  },
  {
   "cell_type": "code",
   "execution_count": null,
   "metadata": {},
   "outputs": [],
   "source": []
  }
 ],
 "metadata": {
  "kernelspec": {
   "display_name": "Python 3",
   "language": "python",
   "name": "python3"
  },
  "language_info": {
   "codemirror_mode": {
    "name": "ipython",
    "version": 3
   },
   "file_extension": ".py",
   "mimetype": "text/x-python",
   "name": "python",
   "nbconvert_exporter": "python",
   "pygments_lexer": "ipython3",
   "version": "3.5.2"
  }
 },
 "nbformat": 4,
 "nbformat_minor": 2
}
