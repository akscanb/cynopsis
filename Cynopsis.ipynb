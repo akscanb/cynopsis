{
 "cells": [
  {
   "cell_type": "code",
   "execution_count": 1,
   "metadata": {},
   "outputs": [],
   "source": [
    "import sys"
   ]
  },
  {
   "cell_type": "code",
   "execution_count": 2,
   "metadata": {},
   "outputs": [],
   "source": [
    "\n",
    "import csv\n",
    "import json\n",
    "import sys\n",
    "\n",
    "class Customer:\n",
    "    def __init__(self, last_name, first_name, title, country_of_residence, gender, date_of_birth, id_number, nationality):\n",
    "        self.last_name = last_name\n",
    "        self.first_name = first_name\n",
    "        self.title = title\n",
    "        self.country_of_residence = country_of_residence\n",
    "        self.gender = gender\n",
    "        self.date_of_birth = date_of_birth\n",
    "        self.identification_number = id_number\n",
    "        self.nationality = nationality\n",
    "\n",
    "        # Hard-coded fields\n",
    "        self.ssic_code = \"UNKNOWN\"\n",
    "        self.ssoc_code = \"UNKNOWN\"\n",
    "        self.onboarding_mode = \"NON FACE-TO-FACE\"\n",
    "        self.product_service_complexity = \"COMPLEX\"\n",
    "        self.payment_mode = \"VIRTUAL CURRENCY\"\n",
    "\n",
    "        # Omitted fields\n",
    "#        self.domain_name = None\n",
    "#        self.rfrID = None\n",
    "#        self.middle_name = None\n",
    "#        self.alias_name = None\n",
    "#        self.country_of_birth = None\n",
    "#        self.identification_type = None\n",
    "#        self.issue_date = None\n",
    "#        self.expiry_date = None\n",
    "#        self.source_of_funds = None\n",
    "#        self.bank_name = None\n",
    "#        self.acc_number = None\n",
    "#        self.emails = []\n",
    "#        self.telephone_numbers = []\n",
    "#        self.addresses = None\n",
    "\n",
    "    def to_json(self):\n",
    "        return json.dumps(self.__dict__)\n",
    "\n",
    "def customer_from_file(filename):\n",
    "    with open(filename, 'r') as f:\n",
    "        fields = [field.strip() for field in f.readlines()]\n",
    "\n",
    "    # Last field should be ignored\n",
    "    assert len(fields) == 9, \"Unexpected number of fields\"\n",
    "\n",
    "    last_name = fields[0]\n",
    "    first_name = fields[1]\n",
    "    title = fields[2]\n",
    "    country_of_residence = fields[3]\n",
    "    gender = fields[4]\n",
    "    date_of_birth = fields[5]\n",
    "    id_number = fields[6]\n",
    "    nationality = fields[7]\n",
    "\n",
    "    return Customer(last_name, first_name, title, country_of_residence, gender, date_of_birth, id_number, nationality)\n",
    "\n"
   ]
  },
  {
   "cell_type": "code",
   "execution_count": 3,
   "metadata": {},
   "outputs": [
    {
     "ename": "IOError",
     "evalue": "[Errno 2] No such file or directory: 'tabula-exampleKYC.csv'",
     "output_type": "error",
     "traceback": [
      "\u001b[0;31m---------------------------------------------------------------------------\u001b[0m",
      "\u001b[0;31mIOError\u001b[0m                                   Traceback (most recent call last)",
      "\u001b[0;32m<ipython-input-3-22fae46a44fd>\u001b[0m in \u001b[0;36m<module>\u001b[0;34m()\u001b[0m\n\u001b[0;32m----> 1\u001b[0;31m \u001b[0mcustomer\u001b[0m \u001b[0;34m=\u001b[0m \u001b[0mcustomer_from_file\u001b[0m\u001b[0;34m(\u001b[0m\u001b[0;34m\"tabula-exampleKYC.csv\"\u001b[0m\u001b[0;34m)\u001b[0m\u001b[0;34m\u001b[0m\u001b[0m\n\u001b[0m\u001b[1;32m      2\u001b[0m \u001b[0;32mprint\u001b[0m \u001b[0;34m(\u001b[0m\u001b[0mcustomer\u001b[0m\u001b[0;34m.\u001b[0m\u001b[0mto_json\u001b[0m\u001b[0;34m(\u001b[0m\u001b[0;34m)\u001b[0m\u001b[0;34m)\u001b[0m\u001b[0;34m\u001b[0m\u001b[0m\n",
      "\u001b[0;32m<ipython-input-2-ccdda206cb37>\u001b[0m in \u001b[0;36mcustomer_from_file\u001b[0;34m(filename)\u001b[0m\n\u001b[1;32m     42\u001b[0m \u001b[0;34m\u001b[0m\u001b[0m\n\u001b[1;32m     43\u001b[0m \u001b[0;32mdef\u001b[0m \u001b[0mcustomer_from_file\u001b[0m\u001b[0;34m(\u001b[0m\u001b[0mfilename\u001b[0m\u001b[0;34m)\u001b[0m\u001b[0;34m:\u001b[0m\u001b[0;34m\u001b[0m\u001b[0m\n\u001b[0;32m---> 44\u001b[0;31m     \u001b[0;32mwith\u001b[0m \u001b[0mopen\u001b[0m\u001b[0;34m(\u001b[0m\u001b[0mfilename\u001b[0m\u001b[0;34m,\u001b[0m \u001b[0;34m'r'\u001b[0m\u001b[0;34m)\u001b[0m \u001b[0;32mas\u001b[0m \u001b[0mf\u001b[0m\u001b[0;34m:\u001b[0m\u001b[0;34m\u001b[0m\u001b[0m\n\u001b[0m\u001b[1;32m     45\u001b[0m         \u001b[0mfields\u001b[0m \u001b[0;34m=\u001b[0m \u001b[0;34m[\u001b[0m\u001b[0mfield\u001b[0m\u001b[0;34m.\u001b[0m\u001b[0mstrip\u001b[0m\u001b[0;34m(\u001b[0m\u001b[0;34m)\u001b[0m \u001b[0;32mfor\u001b[0m \u001b[0mfield\u001b[0m \u001b[0;32min\u001b[0m \u001b[0mf\u001b[0m\u001b[0;34m.\u001b[0m\u001b[0mreadlines\u001b[0m\u001b[0;34m(\u001b[0m\u001b[0;34m)\u001b[0m\u001b[0;34m]\u001b[0m\u001b[0;34m\u001b[0m\u001b[0m\n\u001b[1;32m     46\u001b[0m \u001b[0;34m\u001b[0m\u001b[0m\n",
      "\u001b[0;31mIOError\u001b[0m: [Errno 2] No such file or directory: 'tabula-exampleKYC.csv'"
     ]
    }
   ],
   "source": [
    "customer = customer_from_file(\"tabula-exampleKYC.csv\")\n",
    "print (customer.to_json())"
   ]
  },
  {
   "cell_type": "code",
   "execution_count": 4,
   "metadata": {},
   "outputs": [
    {
     "data": {
      "text/plain": [
       "['',\n",
       " '/Users/Koji/.virtualenvs/py2-data/lib/python27.zip',\n",
       " '/Users/Koji/.virtualenvs/py2-data/lib/python2.7',\n",
       " '/Users/Koji/.virtualenvs/py2-data/lib/python2.7/plat-darwin',\n",
       " '/Users/Koji/.virtualenvs/py2-data/lib/python2.7/plat-mac',\n",
       " '/Users/Koji/.virtualenvs/py2-data/lib/python2.7/plat-mac/lib-scriptpackages',\n",
       " '/Users/Koji/.virtualenvs/py2-data/lib/python2.7/lib-tk',\n",
       " '/Users/Koji/.virtualenvs/py2-data/lib/python2.7/lib-old',\n",
       " '/Users/Koji/.virtualenvs/py2-data/lib/python2.7/lib-dynload',\n",
       " '/System/Library/Frameworks/Python.framework/Versions/2.7/lib/python2.7',\n",
       " '/System/Library/Frameworks/Python.framework/Versions/2.7/lib/python2.7/plat-darwin',\n",
       " '/System/Library/Frameworks/Python.framework/Versions/2.7/lib/python2.7/lib-tk',\n",
       " '/System/Library/Frameworks/Python.framework/Versions/2.7/lib/python2.7/plat-mac',\n",
       " '/System/Library/Frameworks/Python.framework/Versions/2.7/lib/python2.7/plat-mac/lib-scriptpackages',\n",
       " '/Users/Koji/.virtualenvs/py2-data/lib/python2.7/site-packages',\n",
       " '/Users/Koji/.virtualenvs/py2-data/lib/python2.7/site-packages/IPython/extensions',\n",
       " '/Users/Koji/.ipython']"
      ]
     },
     "execution_count": 4,
     "metadata": {},
     "output_type": "execute_result"
    }
   ],
   "source": [
    "sys.path"
   ]
  },
  {
   "cell_type": "code",
   "execution_count": null,
   "metadata": {},
   "outputs": [],
   "source": []
  },
  {
   "cell_type": "code",
   "execution_count": 5,
   "metadata": {},
   "outputs": [],
   "source": [
    "import urllib\n",
    "import requests"
   ]
  },
  {
   "cell_type": "code",
   "execution_count": 15,
   "metadata": {},
   "outputs": [],
   "source": [
    "\n",
    "defaulturl = \"https://p2.cynopsis-solutions.com/artemis_eximchain/\"\n",
    "\n",
    "assessIndivAPI = \"default/individual_risk\" #POST\n",
    "indivCustomerAPI = \"api/individual_customer\" #GET,PUT\n",
    "indivCustomerDocAPI = \"api/individual_customer_doc\" #POST\n",
    "indivCustomerRepAPI = \"api/individual_customer_report\" #POST\n",
    "customerRepAPI = \"api/customer_report\" #PUT\n",
    "checkCustomerAPI = \"default/check_status.json\" #GET\n",
    "\n",
    "\n",
    "# headers = {\"Content-Type\": \"application/json\",\n",
    "#            \"WEB2PY-USER-TOKEN\": \"97d6c5bd-7278-4621-b175-c247e8cbef08\"}\n",
    "headers = {\"Content-Type\": \"application/json\",\n",
    "           \"WEB2PY-USER-TOKEN\": \"75612638-5b25-4750-8e4f-d80374a4ed0d\"}\n",
    "body = {\"customer\":1}\n"
   ]
  },
  {
   "cell_type": "code",
   "execution_count": 21,
   "metadata": {},
   "outputs": [],
   "source": [
    "#url = 'http://www.example.com/login'   \n",
    "#body = {'USERNAME': 'foo', 'PASSWORD': 'bar'}\n",
    "#headers = {'Content-type': 'application/x-www-form-urlencoded'}\n",
    "#response, content = http.request(url, 'POST', headers=headers, body=urllib.parse.urlencode(body))\n",
    "#print(response)"
   ]
  },
  {
   "cell_type": "code",
   "execution_count": 17,
   "metadata": {},
   "outputs": [
    {
     "name": "stdout",
     "output_type": "stream",
     "text": [
      "https://p2.cynopsis-solutions.com/artemis_eximchain/default/check_status.json\n"
     ]
    }
   ],
   "source": [
    "url = defaulturl+checkCustomerAPI\n",
    "print(url)\n",
    "# url = defaulturl.replace(\"XXXXX\",indivUpdateAPI)\n",
    "# print(url)\n",
    "# url = defaulturl.replace(\"XXXXX\",indivUploadAPI)\n",
    "# print(url)\n",
    "# print(defaulturl)"
   ]
  },
  {
   "cell_type": "code",
   "execution_count": 25,
   "metadata": {},
   "outputs": [
    {
     "name": "stdout",
     "output_type": "stream",
     "text": [
      "{\"risk_rating\": \"LOW\", \"rfrID\": \"006\", \"approval_status\": \"CLEARED\"}\n"
     ]
    }
   ],
   "source": [
    "\n",
    "r = requests.get(url, headers=headers, params=urllib.urlencode(body))\n",
    "print r.text\n",
    "# resp, content = h.request(url, \"GET\", headers=headers)"
   ]
  },
  {
   "cell_type": "code",
   "execution_count": 26,
   "metadata": {},
   "outputs": [
    {
     "data": {
      "text/plain": [
       "'customer=1'"
      ]
     },
     "execution_count": 26,
     "metadata": {},
     "output_type": "execute_result"
    }
   ],
   "source": [
    "urllib.urlencode(body)"
   ]
  },
  {
   "cell_type": "code",
   "execution_count": 35,
   "metadata": {},
   "outputs": [
    {
     "name": "stdout",
     "output_type": "stream",
     "text": [
      "{'first_name': 'Andrew', 'last_name': 'Koh', 'onboarding_mode': 'UNKNOWN', 'product_service_complexity': 'UNKNOWN', 'payment_mode': 'UNKNOWN', 'nationality': 'AMERICAN', 'ssic_code': 'UNKNOWN', 'ssoc_code': 'UNKNOWN', 'country_of_residence': 'UNITED STATES OF AMERICA'}\n",
      "{'last_name': 'XU', 'rfrID': 'prod0001', 'ssoc_code': '13302 - SOFTWARE AND APPLICATIONS MANAGER', 'payment_mode': 'CASH', 'nationality': 'CHINESE', 'first_name': 'YANGBO', 'ssic_code': '46512 - WHOLESALE OF COMPUTER SOFTWARE (EXCEPT GAMES)', 'country_of_residence': 'SINGAPORE', 'date_of_birth': '11/13/1993', 'onboarding_mode': 'NON FACE-TO-FACE', 'product_service_complexity': 'SIMPLE'}\n"
     ]
    }
   ],
   "source": [
    "body = {\n",
    "\n",
    "\n",
    "\n",
    "    \"first_name\":\"Andrew\",\n",
    "\n",
    "        # \"description\": \"First Name\",\n",
    "        # \"required\": true,\n",
    "        # \"type\": \"string\"\n",
    "\n",
    "\n",
    "    \"last_name\":\"Koh\",\n",
    "\n",
    "        # \"description\": \"Last Name\",\n",
    "        # \"required\": true,\n",
    "        # \"type\": \"string\"\n",
    "\n",
    "\n",
    "    \"nationality\":\"AMERICAN\",\n",
    "\n",
    "        # \"description\": \"Nationality of the individual customer\",\n",
    "        # \"required\": true,\n",
    "        # \"type\": \"string\",\n",
    "        # \"enum\": please refer to _nationality list\n",
    "\n",
    "    \"country_of_residence\":\"UNITED STATES OF AMERICA\",\n",
    "\n",
    "        # \"description\": \"Country of Residence of the individual customer\",\n",
    "        # \"required\": true,\n",
    "        # \"type\": \"string\",\n",
    "        # \"enum\": please refer to _country list\n",
    "\n",
    "\n",
    "    \"ssic_code\":\"UNKNOWN\",\n",
    "\n",
    "        # \"description\": \"Industry Code\",\n",
    "        # \"required\": true,\n",
    "        # \"type\": \"string\",\n",
    "        # \"enum\": please refer to _ssic list\n",
    "\n",
    "    \"ssoc_code\":\"UNKNOWN\",\n",
    "\n",
    "        # \"description\": \"Occupation Code\",\n",
    "        # \"required\": true,\n",
    "        # \"type\": \"string\",\n",
    "        # \"enum\": please refer to _ssoc list\n",
    "\n",
    "    \"onboarding_mode\":\"UNKNOWN\",\n",
    "\n",
    "        # \"description\": \"Onboarding Mode\",\n",
    "        # \"required\": true,\n",
    "        # \"type\": \"string\",\n",
    "        # \"enum\": [\"UNKNOWN\", \"FACE-TO-FACE\", \"NON FACE-TO-FACE\"]\n",
    "\n",
    "    \"payment_mode\":\"UNKNOWN\",\n",
    "\n",
    "        # \"description\": \"Payment Mode\",\n",
    "        # \"required\": true,\n",
    "        # \"type\": \"string\",\n",
    "        \n",
    "\n",
    "    \"product_service_complexity\":\"UNKNOWN\"\n",
    "\n",
    "        # \"description\": \"Product Service Complexity\",\n",
    "        # \"required\": true,\n",
    "        # \"type\": \"string\",\n",
    "        # \"enum\": [\"UNKNOWN\", \"SIMPLE\", \"COMPLEX\", \"HIGH RISK\", \"UNUSUAL\"]\n",
    "}\n",
    "print(body)\n",
    "body ={\n",
    "            \"rfrID\":\"prod0001\",\n",
    "            \"first_name\": \"YANGBO\",\n",
    "            \"last_name\": \"XU\",\n",
    "            \"nationality\": \"CHINESE\",\n",
    "            \"country_of_residence\": \"SINGAPORE\",\n",
    "            \"onboarding_mode\": \"NON FACE-TO-FACE\",\n",
    "            \"product_service_complexity\": \"SIMPLE\",\n",
    "            \"payment_mode\": \"CASH\",\n",
    "            \"ssic_code\": \"46512 - WHOLESALE OF COMPUTER SOFTWARE (EXCEPT GAMES)\",\n",
    "            \"ssoc_code\": \"13302 - SOFTWARE AND APPLICATIONS MANAGER\",\n",
    "            \"date_of_birth\":\"11/13/1993\"\n",
    "}\n",
    "# body ={\n",
    "#     \"rfrID\":\"prod0002\",\n",
    "#             \"first_name\": \"YANGBO\",\n",
    "#             \"last_name\": \"XU\",\n",
    "#             \"nationality\": \"CHINESE\",\n",
    "#             \"country_of_residence\": \"SINGAPORE\",\n",
    "#             \"onboarding_mode\": \"NON FACE-TO-FACE\",\n",
    "#             \"product_service_complexity\": \"SIMPLE\",\n",
    "#             \"payment_mode\": \"CASH\",\n",
    "#             \"ssic_code\": \"_A_A_A_A_\",\n",
    "#             \"ssoc_code\": \"_B_B_B_B_\"\n",
    "# }\n",
    "print(body)\n"
   ]
  },
  {
   "cell_type": "code",
   "execution_count": 31,
   "metadata": {},
   "outputs": [
    {
     "name": "stdout",
     "output_type": "stream",
     "text": [
      "https://p2.cynopsis-solutions.com/artemis_eximchain/default/individual_risk\n"
     ]
    }
   ],
   "source": [
    "url = defaulturl + assessIndivAPI\n",
    "print(url)\n"
   ]
  },
  {
   "cell_type": "code",
   "execution_count": 36,
   "metadata": {},
   "outputs": [
    {
     "name": "stdout",
     "output_type": "stream",
     "text": [
      "{\"errors\": {\"date_of_birth\": \"Enter date on or after 01/01/1900\"}, \"rfrID\": \"prod0001\", \"id\": null}\n"
     ]
    }
   ],
   "source": [
    "r = requests.post(url, headers=headers, params=body)\n",
    "print(r.text)"
   ]
  },
  {
   "cell_type": "code",
   "execution_count": 14,
   "metadata": {},
   "outputs": [
    {
     "name": "stdout",
     "output_type": "stream",
     "text": [
      "{\"status\": \"COMPLETED\", \"own_list_search\": [], \"approval_status\": \"CLEARED\", \"control_list_search\": {\"is_hit\": false, \"timeStamp\": \"2018-02-24 12:35:38.640418+00:00\", \"scanResult\": {\"HMT consolidated list of financial sanctions target in the UK (entity)\": [], \"HMT consolidated list of financial sanctions target in the UK (individual)\": [], \"UN consolidated sanction list (entity)\": [], \"OFAC SDN and consolidated sanction list\": [], \"Interpol wanted persons\": [], \"Switzerland SECO consolidated sanction list\": [], \"EU consolidated sanction list\": [], \"UN consolidated sanction list (individual)\": []}, \"indivscanID\": null, \"error\": null}, \"rfrID\": \"\", \"internet_search\": null, \"screening_database_search\": []}\n"
     ]
    }
   ],
   "source": [
    "print(r.text)"
   ]
  },
  {
   "cell_type": "code",
   "execution_count": null,
   "metadata": {},
   "outputs": [],
   "source": []
  },
  {
   "cell_type": "code",
   "execution_count": null,
   "metadata": {},
   "outputs": [],
   "source": []
  },
  {
   "cell_type": "code",
   "execution_count": null,
   "metadata": {},
   "outputs": [],
   "source": []
  },
  {
   "cell_type": "code",
   "execution_count": null,
   "metadata": {},
   "outputs": [],
   "source": []
  }
 ],
 "metadata": {
  "kernelspec": {
   "display_name": "Python 2",
   "language": "python",
   "name": "python2"
  },
  "language_info": {
   "codemirror_mode": {
    "name": "ipython",
    "version": 2
   },
   "file_extension": ".py",
   "mimetype": "text/x-python",
   "name": "python",
   "nbconvert_exporter": "python",
   "pygments_lexer": "ipython2",
   "version": "2.7.10"
  }
 },
 "nbformat": 4,
 "nbformat_minor": 2
}
